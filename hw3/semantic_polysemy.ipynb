{
  "nbformat": 4,
  "nbformat_minor": 0,
  "metadata": {
    "kernelspec": {
      "display_name": "Python 3",
      "language": "python",
      "name": "python3"
    },
    "language_info": {
      "codemirror_mode": {
        "name": "ipython",
        "version": 3
      },
      "file_extension": ".py",
      "mimetype": "text/x-python",
      "name": "python",
      "nbconvert_exporter": "python",
      "pygments_lexer": "ipython3",
      "version": "3.6.7"
    },
    "colab": {
      "name": "semantic polysemy.ipynb",
      "provenance": [],
      "collapsed_sections": []
    }
  },
  "cells": [
    {
      "cell_type": "markdown",
      "metadata": {
        "id": "Xxfm_9kyQvhX",
        "colab_type": "text"
      },
      "source": [
        "## Пункт №1"
      ]
    },
    {
      "cell_type": "markdown",
      "metadata": {
        "id": "TFHkPRtOQvhZ",
        "colab_type": "text"
      },
      "source": [
        "__Используя МАС, я определила значения слова \"лук\" как:__\n",
        "\n",
        "1. Огородное растение сем. лилейных, овощ; Съедобные трубчатые листья или луковицы этого растения.\n",
        "2. Ручное оружие для метания стрел в виде дуги, стянутой тетивой. "
      ]
    },
    {
      "cell_type": "markdown",
      "metadata": {
        "id": "QIPpK6cZQvha",
        "colab_type": "text"
      },
      "source": [
        "__Диагностические слова для каждого из значений:__\n",
        "\n",
        "1. съесть, зеленый, репчатый, маринованный, вареный, резать, сладкий, сырой.\n",
        "2. натянутый, самодельный, меткий, деревянный, изогнутый, охотничий, игрушечный, стальной."
      ]
    },
    {
      "cell_type": "code",
      "metadata": {
        "id": "hymoe-sERHXH",
        "colab_type": "code",
        "colab": {
          "base_uri": "https://localhost:8080/",
          "height": 124
        },
        "outputId": "2b87555c-dbec-4bf5-be4e-47320336b409"
      },
      "source": [
        "from google.colab import drive\n",
        "drive.mount('/content/drive')\n",
        "dataset = '/content/drive/My Drive/Colab Notebooks/нкря_датасет.csv'"
      ],
      "execution_count": 2,
      "outputs": [
        {
          "output_type": "stream",
          "text": [
            "Go to this URL in a browser: https://accounts.google.com/o/oauth2/auth?client_id=947318989803-6bn6qk8qdgf4n4g3pfee6491hc0brc4i.apps.googleusercontent.com&redirect_uri=urn%3aietf%3awg%3aoauth%3a2.0%3aoob&response_type=code&scope=email%20https%3a%2f%2fwww.googleapis.com%2fauth%2fdocs.test%20https%3a%2f%2fwww.googleapis.com%2fauth%2fdrive%20https%3a%2f%2fwww.googleapis.com%2fauth%2fdrive.photos.readonly%20https%3a%2f%2fwww.googleapis.com%2fauth%2fpeopleapi.readonly\n",
            "\n",
            "Enter your authorization code:\n",
            "··········\n",
            "Mounted at /content/drive\n"
          ],
          "name": "stdout"
        }
      ]
    },
    {
      "cell_type": "code",
      "metadata": {
        "id": "p4fXS5VHQvhb",
        "colab_type": "code",
        "colab": {}
      },
      "source": [
        "import csv\n",
        "import re"
      ],
      "execution_count": 0,
      "outputs": []
    },
    {
      "cell_type": "markdown",
      "metadata": {
        "id": "uLquq7VvQvhf",
        "colab_type": "text"
      },
      "source": [
        "Читаю файл с собранным датасетом из НКРЯ и делаю из него словарь."
      ]
    },
    {
      "cell_type": "code",
      "metadata": {
        "id": "DV8PFwUqQvhi",
        "colab_type": "code",
        "colab": {}
      },
      "source": [
        "reader = csv.reader(open(dataset, 'r', encoding = 'utf-8'))\n",
        "data_dict = {}\n",
        "\n",
        "for arr in reader:\n",
        "    line = ' '.join(arr)\n",
        "    line =  re.sub(r'[\\[].*?[\\]]', '', line)\n",
        "    \n",
        "    defin = re.match('[12]', line).group(0)\n",
        "    delim = defin + ';'\n",
        "    line = line.split(delim, 1)[1]\n",
        "    data_dict[line] = defin "
      ],
      "execution_count": 0,
      "outputs": []
    },
    {
      "cell_type": "code",
      "metadata": {
        "id": "VsZCis77Qvhp",
        "colab_type": "code",
        "colab": {
          "base_uri": "https://localhost:8080/",
          "height": 124
        },
        "outputId": "315ffbb0-7514-4548-d9d7-31e6a9e85870"
      },
      "source": [
        "{key:value for key,value in list(data_dict.items())[0:5]}"
      ],
      "execution_count": 5,
      "outputs": [
        {
          "output_type": "execute_result",
          "data": {
            "text/plain": [
              "{'100 г баранины  80 г виноградных листьев  5 г риса  20 г репчатого лука  50 г мацуна  2 г чеснока  соль перец  зелень чабреца  мяты  кинзы  базилика  майорана.  ': '1',\n",
              " 'Кальмары отварить с морковью репчатым луком и лавровым листом  охладить и нарезать кольцами.  ': '1',\n",
              " 'Кое-кто завёл себе на пирсе маленькие огородики  выворотил булыжник  взрыхлил землю и посадил репчатый лук и редис.  ': '1',\n",
              " 'Молодой гусь ( 4- 5 кг)  пол- лимона  соль  свежемолотый чёрный перец  яблоки  чернослив и репчатый лук для начинки.  ': '1',\n",
              " 'Сеть фрешмаркетов « Лайм» удивила нас испанским репчатым луком ( отечественного там нет)  пельменями Pelmenit Helsingfors Tapaan из Финляндии и крабовым мясом по-французски из Литвы.  ': '1'}"
            ]
          },
          "metadata": {
            "tags": []
          },
          "execution_count": 5
        }
      ]
    },
    {
      "cell_type": "markdown",
      "metadata": {
        "id": "xIp2gpCxQvhs",
        "colab_type": "text"
      },
      "source": [
        "## Пункт №2"
      ]
    },
    {
      "cell_type": "code",
      "metadata": {
        "id": "o2KcjPb1Qvht",
        "colab_type": "code",
        "colab": {
          "base_uri": "https://localhost:8080/",
          "height": 263
        },
        "outputId": "2c58498a-97c4-44ae-80cb-d5be2f42c289"
      },
      "source": [
        "!pip install git+https://github.com/lopuhin/python-adagram.git"
      ],
      "execution_count": 22,
      "outputs": [
        {
          "output_type": "stream",
          "text": [
            "Collecting git+https://github.com/lopuhin/python-adagram.git\n",
            "  Cloning https://github.com/lopuhin/python-adagram.git to /tmp/pip-req-build-vlagx189\n",
            "  Running command git clone -q https://github.com/lopuhin/python-adagram.git /tmp/pip-req-build-vlagx189\n",
            "Requirement already satisfied (use --upgrade to upgrade): adagram==0.0.1 from git+https://github.com/lopuhin/python-adagram.git in /usr/local/lib/python3.6/dist-packages\n",
            "Requirement already satisfied: cython in /usr/local/lib/python3.6/dist-packages (from adagram==0.0.1) (0.29.14)\n",
            "Requirement already satisfied: joblib in /usr/local/lib/python3.6/dist-packages (from adagram==0.0.1) (0.14.0)\n",
            "Requirement already satisfied: numpy>=1.9 in /usr/local/lib/python3.6/dist-packages (from adagram==0.0.1) (1.17.4)\n",
            "Requirement already satisfied: six in /usr/local/lib/python3.6/dist-packages (from adagram==0.0.1) (1.12.0)\n",
            "Building wheels for collected packages: adagram\n",
            "  Building wheel for adagram (setup.py) ... \u001b[?25l\u001b[?25hdone\n",
            "  Created wheel for adagram: filename=adagram-0.0.1-cp36-cp36m-linux_x86_64.whl size=470370 sha256=a38d891c65e9be9b26e55bea30e853a8cdefbf25747e42b5800b3e8699b3150f\n",
            "  Stored in directory: /tmp/pip-ephem-wheel-cache-4pdk6pkw/wheels/11/0f/46/f5df96670df8f7973b4c2311ffc9b02e435a7bd3207f992c4d\n",
            "Successfully built adagram\n"
          ],
          "name": "stdout"
        }
      ]
    },
    {
      "cell_type": "code",
      "metadata": {
        "id": "6AGo2FhJMxVI",
        "colab_type": "code",
        "colab": {
          "base_uri": "https://localhost:8080/",
          "height": 52
        },
        "outputId": "ce88a919-0c6c-4622-ef00-c0bdad489e74"
      },
      "source": [
        "import pandas as pd\n",
        "import nltk\n",
        "nltk.download('stopwords')\n",
        "import numpy as np\n",
        "from nltk.tokenize import RegexpTokenizer\n",
        "from nltk.corpus import stopwords\n",
        "from pymorphy2 import MorphAnalyzer\n",
        "from pymystem3 import Mystem\n",
        "\n",
        "morph = MorphAnalyzer()\n",
        "token = RegexpTokenizer('\\w+')\n",
        "stops = set(stopwords.words('russian'))\n",
        "\n",
        "def normalize_pm(text):\n",
        "    words = [morph.parse(word)[0].normal_form for word in tokenize(text) if word]\n",
        "    return words\n",
        "\n",
        "def tokenize(text):\n",
        "    return token.tokenize(text)"
      ],
      "execution_count": 55,
      "outputs": [
        {
          "output_type": "stream",
          "text": [
            "[nltk_data] Downloading package stopwords to /root/nltk_data...\n",
            "[nltk_data]   Package stopwords is already up-to-date!\n"
          ],
          "name": "stdout"
        }
      ]
    },
    {
      "cell_type": "code",
      "metadata": {
        "id": "Q58fkdqe4SWI",
        "colab_type": "code",
        "colab": {}
      },
      "source": [
        "import urllib\n",
        "import adagram"
      ],
      "execution_count": 0,
      "outputs": []
    },
    {
      "cell_type": "code",
      "metadata": {
        "id": "FdtaJZh0qxVa",
        "colab_type": "code",
        "colab": {
          "base_uri": "https://localhost:8080/",
          "height": 52
        },
        "outputId": "8e61fe79-eeb8-4ae3-e040-b5cb81db51e8"
      },
      "source": [
        "urllib.request.urlretrieve(\"https://s3.amazonaws.com/kostia.lopuhin/all.a010.p10.d300.w5.m100.nonorm.slim.joblib\", \"/content/drive/My Drive/Colab Notebooks/all.a010.p10.d300.w5.m100.nonorm.slim.joblib\")"
      ],
      "execution_count": 24,
      "outputs": [
        {
          "output_type": "execute_result",
          "data": {
            "text/plain": [
              "('/content/drive/My Drive/Colab Notebooks/all.a010.p10.d300.w5.m100.nonorm.slim.joblib',\n",
              " <http.client.HTTPMessage at 0x7f6f512d2630>)"
            ]
          },
          "metadata": {
            "tags": []
          },
          "execution_count": 24
        }
      ]
    },
    {
      "cell_type": "code",
      "metadata": {
        "id": "SZKDFovpR7e-",
        "colab_type": "code",
        "colab": {}
      },
      "source": [
        "vm = adagram.VectorModel.load('/content/drive/My Drive/Colab Notebooks/all.a010.p10.d300.w5.m100.nonorm.slim.joblib')"
      ],
      "execution_count": 0,
      "outputs": []
    },
    {
      "cell_type": "code",
      "metadata": {
        "id": "6MNzjcdKRpgU",
        "colab_type": "code",
        "colab": {
          "base_uri": "https://localhost:8080/",
          "height": 89
        },
        "outputId": "11bb5f6c-6861-453a-b1b3-8fb09763810a"
      },
      "source": [
        "data = list(data_dict.keys())\n",
        "data[:3]"
      ],
      "execution_count": 47,
      "outputs": [
        {
          "output_type": "execute_result",
          "data": {
            "text/plain": [
              "['100 г баранины  80 г виноградных листьев  5 г риса  20 г репчатого лука  50 г мацуна  2 г чеснока  соль перец  зелень чабреца  мяты  кинзы  базилика  майорана.  ',\n",
              " 'Молодой гусь ( 4- 5 кг)  пол- лимона  соль  свежемолотый чёрный перец  яблоки  чернослив и репчатый лук для начинки.  ',\n",
              " 'Кальмары отварить с морковью репчатым луком и лавровым листом  охладить и нарезать кольцами.  ']"
            ]
          },
          "metadata": {
            "tags": []
          },
          "execution_count": 47
        }
      ]
    },
    {
      "cell_type": "markdown",
      "metadata": {
        "id": "YdyKXrNnS3_u",
        "colab_type": "text"
      },
      "source": [
        "Определяем значение для каждого контекста с помощью adagram."
      ]
    },
    {
      "cell_type": "code",
      "metadata": {
        "id": "9jWfSdqpOZF0",
        "colab_type": "code",
        "colab": {
          "base_uri": "https://localhost:8080/",
          "height": 52
        },
        "outputId": "fbc7d702-4eae-4a52-fc97-77a40a4fa329"
      },
      "source": [
        "data_auto_def = [np.argmax(vm.disambiguate('лук', normalize_pm(x))) for x in data]"
      ],
      "execution_count": 57,
      "outputs": [
        {
          "output_type": "stream",
          "text": [
            "/usr/local/lib/python3.6/dist-packages/adagram/model.py:171: RuntimeWarning: divide by zero encountered in log\n",
            "  z = np.log(z)\n"
          ],
          "name": "stderr"
        }
      ]
    },
    {
      "cell_type": "code",
      "metadata": {
        "id": "wKN4X4D4Rx7x",
        "colab_type": "code",
        "colab": {
          "base_uri": "https://localhost:8080/",
          "height": 35
        },
        "outputId": "878a7a95-5b0c-49e3-8641-73be98b3ca3b"
      },
      "source": [
        "data_auto_def[:10]"
      ],
      "execution_count": 61,
      "outputs": [
        {
          "output_type": "execute_result",
          "data": {
            "text/plain": [
              "[0, 0, 0, 2, 2, 0, 0, 2, 2, 2]"
            ]
          },
          "metadata": {
            "tags": []
          },
          "execution_count": 61
        }
      ]
    },
    {
      "cell_type": "markdown",
      "metadata": {
        "id": "k8ND9ahzR76t",
        "colab_type": "text"
      },
      "source": [
        "Всего оказалось 5 значений:"
      ]
    },
    {
      "cell_type": "code",
      "metadata": {
        "id": "FAoYaUGi4nPZ",
        "colab_type": "code",
        "colab": {
          "base_uri": "https://localhost:8080/",
          "height": 139
        },
        "outputId": "e11dbd8b-622f-4e24-ea6b-0ec278ece719"
      },
      "source": [
        "for index, x in enumerate(vm.word_sense_probs('лук')):\n",
        "    words = [i[0] for i in vm.sense_neighbors('лук', x[0])]\n",
        "    print(index, ': ', ', '.join(words))"
      ],
      "execution_count": 64,
      "outputs": [
        {
          "output_type": "stream",
          "text": [
            "/usr/local/lib/python3.6/dist-packages/adagram/model.py:124: RuntimeWarning: invalid value encountered in true_divide\n",
            "  sim_matrix = np.dot(self.In, s_v) / self.InNorms\n"
          ],
          "name": "stderr"
        },
        {
          "output_type": "stream",
          "text": [
            "0 :  морковь, помидор, лук-порей, зелень, нарезать, нашинковывать, сельдерей, петрушка, мелко, нарубать\n",
            "1 :  арбалет, дротик, пращ, самострел, мушкет, аркебуза, стрелять, дробовик, пневматический, аркебуз\n",
            "2 :  чеснок, морковь, картошка, гриб, лучок, рубленый, морковка, помидор, томат, перец\n",
            "3 :  лука, евангелист, иаков, лука, матфей, матфей, деяние, иоанн, апостол, ириней\n",
            "4 :  лука, арбалет, колчан, тетива, стрела, копье, самострел, копье, секира, палица\n"
          ],
          "name": "stdout"
        }
      ]
    },
    {
      "cell_type": "markdown",
      "metadata": {
        "id": "rPFty0FoTK5K",
        "colab_type": "text"
      },
      "source": [
        "## Пункт №3"
      ]
    },
    {
      "cell_type": "code",
      "metadata": {
        "id": "JonYu87fTMeo",
        "colab_type": "code",
        "colab": {}
      },
      "source": [
        "def_1 = 'Огородное растение сем. лилейных, овощ; Съедобные трубчатые листья или луковицы этого растения.'\n",
        "def_2 = 'Ручное оружие для метания стрел в виде дуги, стянутой тетивой.'"
      ],
      "execution_count": 0,
      "outputs": []
    },
    {
      "cell_type": "code",
      "metadata": {
        "id": "kotxvPamTnF6",
        "colab_type": "code",
        "colab": {
          "base_uri": "https://localhost:8080/",
          "height": 69
        },
        "outputId": "d2425296-9c3e-4fae-860d-16ec13f861b4"
      },
      "source": [
        "np.argmax(vm.disambiguate('лук', normalize_pm(def_1)))"
      ],
      "execution_count": 67,
      "outputs": [
        {
          "output_type": "stream",
          "text": [
            "/usr/local/lib/python3.6/dist-packages/adagram/model.py:171: RuntimeWarning: divide by zero encountered in log\n",
            "  z = np.log(z)\n"
          ],
          "name": "stderr"
        },
        {
          "output_type": "execute_result",
          "data": {
            "text/plain": [
              "0"
            ]
          },
          "metadata": {
            "tags": []
          },
          "execution_count": 67
        }
      ]
    },
    {
      "cell_type": "code",
      "metadata": {
        "id": "apM_PI_VT1UV",
        "colab_type": "code",
        "colab": {
          "base_uri": "https://localhost:8080/",
          "height": 69
        },
        "outputId": "3fdae38e-d5fa-450d-fe4f-d2517f784df6"
      },
      "source": [
        "np.argmax(vm.disambiguate('лук', normalize_pm(def_2)))"
      ],
      "execution_count": 68,
      "outputs": [
        {
          "output_type": "stream",
          "text": [
            "/usr/local/lib/python3.6/dist-packages/adagram/model.py:171: RuntimeWarning: divide by zero encountered in log\n",
            "  z = np.log(z)\n"
          ],
          "name": "stderr"
        },
        {
          "output_type": "execute_result",
          "data": {
            "text/plain": [
              "1"
            ]
          },
          "metadata": {
            "tags": []
          },
          "execution_count": 68
        }
      ]
    },
    {
      "cell_type": "markdown",
      "metadata": {
        "id": "aRTcYi9iT7V_",
        "colab_type": "text"
      },
      "source": [
        "Вывод - все супер! **Первая дефиниция** из словаря, которая про овощ, получила **значение 0** (neighbors: *морковь, помидор, лук-порей, зелень, нарезать* и т.д.), а **вторая**, которая про оружие, - **1** (neighbors: *арбалет, дротик, пращ, самострел, мушкет* и т.д.)."
      ]
    },
    {
      "cell_type": "markdown",
      "metadata": {
        "id": "mi7Eq7ksZ5nj",
        "colab_type": "text"
      },
      "source": [
        "## Пункт №4"
      ]
    },
    {
      "cell_type": "markdown",
      "metadata": {
        "id": "QKGdMJ1vc8XK",
        "colab_type": "text"
      },
      "source": [
        "Используем тезаурус Wiki_ru_wordnet"
      ]
    },
    {
      "cell_type": "code",
      "metadata": {
        "id": "i-naop4uZ7fc",
        "colab_type": "code",
        "colab": {
          "base_uri": "https://localhost:8080/",
          "height": 211
        },
        "outputId": "7963239e-a377-4025-c52d-75ff88f6ac74"
      },
      "source": [
        "!pip install wiki-ru-wordnet"
      ],
      "execution_count": 72,
      "outputs": [
        {
          "output_type": "stream",
          "text": [
            "Collecting wiki-ru-wordnet\n",
            "\u001b[?25l  Downloading https://files.pythonhosted.org/packages/4a/94/0bd5cb96f0b92bc98908194721a1d49f122e3c670fc2705aae19535dee39/wiki_ru_wordnet-1.0.3.tar.gz (20.6MB)\n",
            "\u001b[K     |████████████████████████████████| 20.6MB 111kB/s \n",
            "\u001b[?25hBuilding wheels for collected packages: wiki-ru-wordnet\n",
            "  Building wheel for wiki-ru-wordnet (setup.py) ... \u001b[?25l\u001b[?25hdone\n",
            "  Created wheel for wiki-ru-wordnet: filename=wiki_ru_wordnet-1.0.3-cp36-none-any.whl size=20890443 sha256=e75246985100695e2ccbd1985b381cdbb83bd3c46192b16b802cedcf9b1f9d06\n",
            "  Stored in directory: /root/.cache/pip/wheels/48/6a/c8/22758a66c35b21c1491861e8ab4809b1fd466d1d2445e99fda\n",
            "Successfully built wiki-ru-wordnet\n",
            "Installing collected packages: wiki-ru-wordnet\n",
            "Successfully installed wiki-ru-wordnet-1.0.3\n"
          ],
          "name": "stdout"
        }
      ]
    },
    {
      "cell_type": "markdown",
      "metadata": {
        "id": "OcislU1tzL0D",
        "colab_type": "text"
      },
      "source": [
        "Найду гипонимы и гиперонимы для каждого слова каждой из дефиниций из словаря."
      ]
    },
    {
      "cell_type": "code",
      "metadata": {
        "id": "JPNLjE6KdJ-8",
        "colab_type": "code",
        "colab": {}
      },
      "source": [
        "from wiki_ru_wordnet import WikiWordnet"
      ],
      "execution_count": 0,
      "outputs": []
    },
    {
      "cell_type": "code",
      "metadata": {
        "id": "RlJgWA3BdQhs",
        "colab_type": "code",
        "colab": {}
      },
      "source": [
        "def get_defs(w):\n",
        "    syns = WikiWordnet().get_synsets(w)\n",
        "    #defs = []\n",
        "    #for s in syns:\n",
        "    #    for word in s.get_words():\n",
        "    #        defs.append(word.definition())\n",
        "    return syns"
      ],
      "execution_count": 0,
      "outputs": []
    },
    {
      "cell_type": "code",
      "metadata": {
        "id": "72tyLnLHlRgX",
        "colab_type": "code",
        "colab": {}
      },
      "source": [
        "def get_hypes(w):\n",
        "    arr = []\n",
        "    syns = get_defs(w)\n",
        "\n",
        "    for i in range(len(syns)):\n",
        "        for hyponym in WikiWordnet().get_hyponyms(syns[i]):\n",
        "            #print(i, ': ', {w.lemma() for w in hyponym.get_words()})\n",
        "            for w in hyponym.get_words():\n",
        "                if w.lemma() not in arr:\n",
        "                    arr.append(w.lemma())\n",
        "            #if i in tes_dict:\n",
        "            #    for w in hyponym.get_words():\n",
        "            #        tes_dict[i].append(w.lemma())\n",
        "            #else:\n",
        "            #    tes_dict[i] = [w.lemma() for w in hyponym.get_words()]\n",
        "\n",
        "    for i in range(len(syns)):\n",
        "        for hypernym in WikiWordnet().get_hypernyms(syns[i]):\n",
        "            #print(i, ': ', {w.lemma() for w in hypernym.get_words()})\n",
        "            for w in hypernym.get_words():\n",
        "                if w.lemma() not in arr:\n",
        "                    arr.append(w.lemma())\n",
        "            #if i in tes_dict:\n",
        "            #    for w in hypernym.get_words():\n",
        "            #        tes_dict[i].append(w.lemma())\n",
        "            #else:\n",
        "            #    tes_dict[i] = [w.lemma() for w in hypernym.get_words()]\n",
        "    return arr"
      ],
      "execution_count": 0,
      "outputs": []
    },
    {
      "cell_type": "code",
      "metadata": {
        "id": "8KSk9JBp0ypA",
        "colab_type": "code",
        "colab": {
          "base_uri": "https://localhost:8080/",
          "height": 52
        },
        "outputId": "32798408-ddc1-413c-92a4-12cd83477fa9"
      },
      "source": [
        "print(def_1)\n",
        "print(def_2)"
      ],
      "execution_count": 122,
      "outputs": [
        {
          "output_type": "stream",
          "text": [
            "Огородное растение сем. лилейных, овощ; Съедобные трубчатые листья или луковицы этого растения.\n",
            "Ручное оружие для метания стрел в виде дуги, стянутой тетивой.\n"
          ],
          "name": "stdout"
        }
      ]
    },
    {
      "cell_type": "code",
      "metadata": {
        "id": "wExAyni3zXBv",
        "colab_type": "code",
        "colab": {}
      },
      "source": [
        "arr_1 = []\n",
        "\n",
        "for word in normalize_pm(def_1):\n",
        "    for w in get_hypes(word):\n",
        "        arr_1.append(w)"
      ],
      "execution_count": 0,
      "outputs": []
    },
    {
      "cell_type": "code",
      "metadata": {
        "id": "x4qcWNst0_jO",
        "colab_type": "code",
        "colab": {
          "base_uri": "https://localhost:8080/",
          "height": 35
        },
        "outputId": "dd393ae3-e991-431a-afef-574ae5b339a0"
      },
      "source": [
        "arr_1[:5]"
      ],
      "execution_count": 149,
      "outputs": [
        {
          "output_type": "execute_result",
          "data": {
            "text/plain": [
              "['чемерица', 'кукольник', 'адонис', 'крин', 'прострел']"
            ]
          },
          "metadata": {
            "tags": []
          },
          "execution_count": 149
        }
      ]
    },
    {
      "cell_type": "code",
      "metadata": {
        "id": "Sow0eUzR5CxS",
        "colab_type": "code",
        "colab": {}
      },
      "source": [
        "arr_2 = []\n",
        "\n",
        "for word in normalize_pm(def_2):\n",
        "    for w in get_hypes(word):\n",
        "        arr_2.append(w)"
      ],
      "execution_count": 0,
      "outputs": []
    },
    {
      "cell_type": "code",
      "metadata": {
        "id": "v_gKe7WS5FQ5",
        "colab_type": "code",
        "colab": {
          "base_uri": "https://localhost:8080/",
          "height": 35
        },
        "outputId": "1b163f15-ce3a-4d6c-b8bf-7a2a88bde08f"
      },
      "source": [
        "arr_2[:5]"
      ],
      "execution_count": 150,
      "outputs": [
        {
          "output_type": "execute_result",
          "data": {
            "text/plain": [
              "['огнестрельное оружие', 'ружьё', 'бомба', 'ствол', 'холодное оружие']"
            ]
          },
          "metadata": {
            "tags": []
          },
          "execution_count": 150
        }
      ]
    },
    {
      "cell_type": "markdown",
      "metadata": {
        "id": "rNxgTeZPpRLB",
        "colab_type": "text"
      },
      "source": [
        "Выведу еще раз значения, полученные с помощью метода sense_neighbors модулем adagram."
      ]
    },
    {
      "cell_type": "code",
      "metadata": {
        "id": "TsvrwZm0oMaK",
        "colab_type": "code",
        "colab": {
          "base_uri": "https://localhost:8080/",
          "height": 139
        },
        "outputId": "d32efc8c-8219-47a6-a574-b00255004757"
      },
      "source": [
        "for index, x in enumerate(vm.word_sense_probs('лук')):\n",
        "    words = [i[0] for i in vm.sense_neighbors('лук', x[0])]\n",
        "    print(index, ': ', ', '.join(words))"
      ],
      "execution_count": 97,
      "outputs": [
        {
          "output_type": "stream",
          "text": [
            "/usr/local/lib/python3.6/dist-packages/adagram/model.py:124: RuntimeWarning: invalid value encountered in true_divide\n",
            "  sim_matrix = np.dot(self.In, s_v) / self.InNorms\n"
          ],
          "name": "stderr"
        },
        {
          "output_type": "stream",
          "text": [
            "0 :  морковь, помидор, лук-порей, зелень, нарезать, нашинковывать, сельдерей, петрушка, мелко, нарубать\n",
            "1 :  арбалет, дротик, пращ, самострел, мушкет, аркебуза, стрелять, дробовик, пневматический, аркебуз\n",
            "2 :  чеснок, морковь, картошка, гриб, лучок, рубленый, морковка, помидор, томат, перец\n",
            "3 :  лука, евангелист, иаков, лука, матфей, матфей, деяние, иоанн, апостол, ириней\n",
            "4 :  лука, арбалет, колчан, тетива, стрела, копье, самострел, копье, секира, палица\n"
          ],
          "name": "stdout"
        }
      ]
    },
    {
      "cell_type": "markdown",
      "metadata": {
        "id": "CKwIRIz258Bu",
        "colab_type": "text"
      },
      "source": [
        "Теперь соотнесу полученные массивы со словами модуля adagram."
      ]
    },
    {
      "cell_type": "code",
      "metadata": {
        "id": "wPUn-3zTmhhU",
        "colab_type": "code",
        "colab": {
          "base_uri": "https://localhost:8080/",
          "height": 52
        },
        "outputId": "85ae0ac5-835d-48c8-e6e7-3fd49c67567a"
      },
      "source": [
        "sense = vm.word_sense_probs('лук')\n",
        "first = [i[0] for i in vm.sense_neighbors('лук', sense[0][0])]\n",
        "second = [i[0] for i in vm.sense_neighbors('лук', sense[1][0])]\n",
        "third = [i[0] for i in vm.sense_neighbors('лук', sense[2][0])]\n",
        "fourth = [i[0] for i in vm.sense_neighbors('лук', sense[3][0])]\n",
        "fifth = [i[0] for i in vm.sense_neighbors('лук', sense[4][0])]"
      ],
      "execution_count": 156,
      "outputs": [
        {
          "output_type": "stream",
          "text": [
            "/usr/local/lib/python3.6/dist-packages/adagram/model.py:124: RuntimeWarning: invalid value encountered in true_divide\n",
            "  sim_matrix = np.dot(self.In, s_v) / self.InNorms\n"
          ],
          "name": "stderr"
        }
      ]
    },
    {
      "cell_type": "markdown",
      "metadata": {
        "id": "aWnc1M3P8vZo",
        "colab_type": "text"
      },
      "source": [
        "Найдем пересечения гипонимов и гиперонимов слов из толкований с автоматически выявленными значениями."
      ]
    },
    {
      "cell_type": "code",
      "metadata": {
        "id": "Kjho2uqy7UC0",
        "colab_type": "code",
        "colab": {
          "base_uri": "https://localhost:8080/",
          "height": 104
        },
        "outputId": "1bb520b8-d094-4ed2-cc91-e5b7847f9560"
      },
      "source": [
        "print(len(set(arr_1) & set(first)))\n",
        "print(len(set(arr_1) & set(second)))\n",
        "print(len(set(arr_1) & set(third)))\n",
        "print(len(set(arr_1) & set(fourth)))\n",
        "print(len(set(arr_1) & set(fifth)))"
      ],
      "execution_count": 162,
      "outputs": [
        {
          "output_type": "stream",
          "text": [
            "4\n",
            "0\n",
            "5\n",
            "0\n",
            "0\n"
          ],
          "name": "stdout"
        }
      ]
    },
    {
      "cell_type": "code",
      "metadata": {
        "id": "SUDRhI0S7_W5",
        "colab_type": "code",
        "colab": {
          "base_uri": "https://localhost:8080/",
          "height": 104
        },
        "outputId": "ee76c0de-68e1-422b-99bf-f402f085fb23"
      },
      "source": [
        "print(len(set(arr_2) & set(first)))\n",
        "print(len(set(arr_2) & set(second)))\n",
        "print(len(set(arr_2) & set(third)))\n",
        "print(len(set(arr_2) & set(fourth)))\n",
        "print(len(set(arr_2) & set(fifth)))"
      ],
      "execution_count": 164,
      "outputs": [
        {
          "output_type": "stream",
          "text": [
            "0\n",
            "0\n",
            "0\n",
            "0\n",
            "0\n"
          ],
          "name": "stdout"
        }
      ]
    },
    {
      "cell_type": "code",
      "metadata": {
        "id": "33aRqh1N8-b1",
        "colab_type": "code",
        "colab": {
          "base_uri": "https://localhost:8080/",
          "height": 52
        },
        "outputId": "d5692e8f-05d8-4adf-acf1-33e801dfcdc5"
      },
      "source": [
        "print(len(arr_1))\n",
        "print(len(arr_2))"
      ],
      "execution_count": 165,
      "outputs": [
        {
          "output_type": "stream",
          "text": [
            "638\n",
            "34\n"
          ],
          "name": "stdout"
        }
      ]
    },
    {
      "cell_type": "markdown",
      "metadata": {
        "id": "fTsapH-W8NEY",
        "colab_type": "text"
      },
      "source": [
        "**ИТОГО:** с первым толкованием из словаря получилось идеально - ему соответствуют 1 и 3 значения (они как раз про овощи). Пересечений со вторым толкованием не нашлось (видимо, это связано с очень маленьким количеством выявленных гипонимов и гиперонимов - всего 34 - всилу специфичности слов - оружие, арбалеты), но здесь уже ясно, что ему соответствуют значения 2 и 5. "
      ]
    },
    {
      "cell_type": "markdown",
      "metadata": {
        "id": "OaoPeY6HZ1Lr",
        "colab_type": "text"
      },
      "source": [
        "## Пункт №5"
      ]
    },
    {
      "cell_type": "markdown",
      "metadata": {
        "id": "v1y24W96_2Jm",
        "colab_type": "text"
      },
      "source": [
        "Здесь массив значений, сделанный еще на этапе сбора контекстов вручную."
      ]
    },
    {
      "cell_type": "code",
      "metadata": {
        "id": "EKPKH5-7-Edj",
        "colab_type": "code",
        "colab": {}
      },
      "source": [
        "given = list(data_dict.values())\n",
        "given = [int(i) for i in given]"
      ],
      "execution_count": 0,
      "outputs": []
    },
    {
      "cell_type": "markdown",
      "metadata": {
        "id": "-EVA_bQE_Sby",
        "colab_type": "text"
      },
      "source": [
        "Согласно результату, полученному в предыдущем пункте, получается такое соответствие двух заданных еще в начале значений пяти выявленным автоматически классам. Четвертому значению присвоен 0, т.к. оно имеет семантику, не относящуюся к теме (лука, евангелист и т.д.), и его мы рассматривать не будем."
      ]
    },
    {
      "cell_type": "code",
      "metadata": {
        "id": "UsowUjU9-nlG",
        "colab_type": "code",
        "colab": {}
      },
      "source": [
        "corrs = [1, 2, 1, 0, 2]"
      ],
      "execution_count": 0,
      "outputs": []
    },
    {
      "cell_type": "code",
      "metadata": {
        "id": "1pM3X-RAAWZk",
        "colab_type": "code",
        "colab": {}
      },
      "source": [
        "new_class = [corrs[int(i)] for i in data_auto_def]"
      ],
      "execution_count": 0,
      "outputs": []
    },
    {
      "cell_type": "code",
      "metadata": {
        "id": "8guRmd2OZ4Sz",
        "colab_type": "code",
        "colab": {}
      },
      "source": [
        "import sklearn"
      ],
      "execution_count": 0,
      "outputs": []
    },
    {
      "cell_type": "code",
      "metadata": {
        "id": "83ykSwhtBHBR",
        "colab_type": "code",
        "colab": {
          "base_uri": "https://localhost:8080/",
          "height": 35
        },
        "outputId": "c22aea67-4cb8-4b91-807a-1e50d12c3851"
      },
      "source": [
        "sklearn.metrics.accuracy_score(given, new_class)"
      ],
      "execution_count": 187,
      "outputs": [
        {
          "output_type": "execute_result",
          "data": {
            "text/plain": [
              "0.9012345679012346"
            ]
          },
          "metadata": {
            "tags": []
          },
          "execution_count": 187
        }
      ]
    },
    {
      "cell_type": "markdown",
      "metadata": {
        "id": "28uWC3-oCDI_",
        "colab_type": "text"
      },
      "source": [
        "Точность соответствия очень высокая."
      ]
    }
  ]
}